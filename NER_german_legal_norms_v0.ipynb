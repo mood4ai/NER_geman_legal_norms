{
 "cells": [
  {
   "cell_type": "markdown",
   "metadata": {},
   "source": [
    "### Searching for german legal norms in a string - in its simple form (e.g. Art. 33 GG, § 15a StVO)"
   ]
  },
  {
   "cell_type": "code",
   "execution_count": 3,
   "metadata": {},
   "outputs": [],
   "source": [
    "pseudo_text = 'Als Rechtsnorm oder Rechtsvorschrift bzw. Rechtssatz Art. 8 KAG versteht  man entweder eine gesetzliche Regelung oder eine auf gesetzlicher Grundlage ergangene oder eine im Gewohnheitsrecht enthaltene Vorschrift § 15a StVO  generell-abstrakter Natur. Da sie für eine Vielzahl von Sachverhalten wirkt, ist sie abstrakt; aufgrund der Wirkung für eine Vielzahl von Personen ist sie generell. Ist eine Rechtsnorm nur auf eine Person § 23 ALG oder einen einzigen Sachverhalt anwendbar Art. 11 BauKaG spricht man von einem Einzelfallgesetz. Der Begriff der Rechtsnorm wird in der Rechtswissenschaft verschieden weit definiert.  Das zugehörige Adjektiv ist normativ. Rechtsnormen zählen zu den sozialen § 13 EStG Normen, zu denen auch moralische Normen gezählt Art. 33 GG werden. Im Unterschied zu diesen sind Rechtsnormen aber mit Befehl und Zwang im Wege Art. 33 GG der Vollstreckung auch gegen § 21 MeldDV den Willen des Normadressaten durchsetzbar.'"
   ]
  },
  {
   "cell_type": "code",
   "execution_count": 4,
   "metadata": {},
   "outputs": [
    {
     "data": {
      "text/plain": [
       "'Als Rechtsnorm oder Rechtsvorschrift bzw. Rechtssatz Art. 8 KAG versteht  man entweder eine gesetzliche Regelung oder eine auf gesetzlicher Grundlage ergangene oder eine im Gewohnheitsrecht enthaltene Vorschrift § 15a StVO  generell-abstrakter Natur. Da sie für eine Vielzahl von Sachverhalten wirkt, ist sie abstrakt; aufgrund der Wirkung für eine Vielzahl von Personen ist sie generell. Ist eine Rechtsnorm nur auf eine Person § 23 ALG oder einen einzigen Sachverhalt anwendbar Art. 11 BauKaG spricht man von einem Einzelfallgesetz. Der Begriff der Rechtsnorm wird in der Rechtswissenschaft verschieden weit definiert.  Das zugehörige Adjektiv ist normativ. Rechtsnormen zählen zu den sozialen § 13 EStG Normen, zu denen auch moralische Normen gezählt Art. 33 GG werden. Im Unterschied zu diesen sind Rechtsnormen aber mit Befehl und Zwang im Wege Art. 33 GG der Vollstreckung auch gegen § 21 MeldDV den Willen des Normadressaten durchsetzbar.'"
      ]
     },
     "execution_count": 4,
     "metadata": {},
     "output_type": "execute_result"
    }
   ],
   "source": [
    "pseudo_text"
   ]
  },
  {
   "cell_type": "markdown",
   "metadata": {},
   "source": [
    "### Function"
   ]
  },
  {
   "cell_type": "code",
   "execution_count": 7,
   "metadata": {},
   "outputs": [],
   "source": [
    "import re\n",
    "from collections import Counter\n",
    "\n",
    "def find_norms(text: str, count=False):\n",
    "    \"\"\"function receives a string as parameter\n",
    "    and returns a dict of law norms, where the norms are the keys and number of accurances are the values\n",
    "    \n",
    "    (?:§ |Art. ) - substring starts with § or Art.\n",
    "    [a-zA-Z]+    - one or more occurances (Name of the law)\n",
    "    (O|G|V)      - end of the name of the laws name\n",
    "    \\W           - there can be a \"white space\" or \".\" or \"!\" etc. after the norm\n",
    "    \"\"\"\n",
    "    \n",
    "    list_norms = []\n",
    "    dict_norms = {}\n",
    "    list = re.findall(\"(?:§ |Art. )[0-9]+[a-z]? [a-zA-Z]+\\W\", text)\n",
    "    \n",
    "    # cut the last string-item out, since this was only needed for finding a norm\n",
    "    for i in list:\n",
    "        list_norms.append(i[:-1])\n",
    "        \n",
    "    cnt = Counter()\n",
    "    for item in list_norms:\n",
    "        cnt[item] += 1\n",
    "    cnt = dict(cnt)\n",
    "    \n",
    "    if count==True:\n",
    "        return cnt\n",
    "    else:\n",
    "        return list_norms   "
   ]
  },
  {
   "cell_type": "markdown",
   "metadata": {},
   "source": [
    "### Execution_"
   ]
  },
  {
   "cell_type": "code",
   "execution_count": 10,
   "metadata": {},
   "outputs": [
    {
     "data": {
      "text/plain": [
       "['Art. 8 KAG',\n",
       " '§ 15a StVO',\n",
       " '§ 23 ALG',\n",
       " 'Art. 11 BauKaG',\n",
       " '§ 13 EStG',\n",
       " 'Art. 33 GG',\n",
       " 'Art. 33 GG',\n",
       " '§ 21 MeldDV']"
      ]
     },
     "execution_count": 10,
     "metadata": {},
     "output_type": "execute_result"
    }
   ],
   "source": [
    "find_norms(pseudo_text)"
   ]
  },
  {
   "cell_type": "code",
   "execution_count": 9,
   "metadata": {
    "scrolled": false
   },
   "outputs": [
    {
     "data": {
      "text/plain": [
       "{'Art. 8 KAG': 1,\n",
       " '§ 15a StVO': 1,\n",
       " '§ 23 ALG': 1,\n",
       " 'Art. 11 BauKaG': 1,\n",
       " '§ 13 EStG': 1,\n",
       " 'Art. 33 GG': 2,\n",
       " '§ 21 MeldDV': 1}"
      ]
     },
     "execution_count": 9,
     "metadata": {},
     "output_type": "execute_result"
    }
   ],
   "source": [
    "find_norms(pseudo_text, count=True)"
   ]
  }
 ],
 "metadata": {
  "kernelspec": {
   "display_name": "Python 3",
   "language": "python",
   "name": "python3"
  },
  "language_info": {
   "codemirror_mode": {
    "name": "ipython",
    "version": 3
   },
   "file_extension": ".py",
   "mimetype": "text/x-python",
   "name": "python",
   "nbconvert_exporter": "python",
   "pygments_lexer": "ipython3",
   "version": "3.7.1"
  }
 },
 "nbformat": 4,
 "nbformat_minor": 4
}
